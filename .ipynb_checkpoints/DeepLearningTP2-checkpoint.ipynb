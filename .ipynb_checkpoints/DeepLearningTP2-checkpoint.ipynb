{
 "cells": [
  {
   "cell_type": "markdown",
   "metadata": {},
   "source": [
    "<table align=\"left\" >\n",
    "\n",
    "  <tr><th >\n",
    "      <a target=\"_blank\"  href=\"http://www.fsdmfes.ac.ma/\"><img src=\"https://raw.githubusercontent.com/m-elkhou/Object-Detection/master/assets/usmba.png\" width=70px /></a>\n",
    "  </th><th>\n",
    "      <a target=\"_blank\"  href=\"http://www.fsdmfes.ac.ma/\"><img src=\"https://raw.githubusercontent.com/m-elkhou/Object-Detection/master/assets/fsdm.png\" width=75px/></a>\n",
    "  </th><th>\n",
    "      <a target=\"_blank\"  href=\"https://www.univ-paris13.fr/\"><img src=\"https://raw.githubusercontent.com/m-elkhou/Object-Detection/master/assets/uspn.png\" width=150px/></a>\n",
    "  </th></tr>\n",
    "\n",
    "  <tr><td style=\"text-align:center;\">\n",
    "      <a target=\"_blank\"  href=\"http://www.fsdmfes.ac.ma/\">USMBA</a>\n",
    "  </td><td style=\"text-align:center;\">\n",
    "      <a target=\"_blank\"  href=\"http://www.fsdmfes.ac.ma/\">FSDM</a>\n",
    "  </td><td style=\"text-align:center;\">\n",
    "      <a target=\"_blank\"  href=\"https://www.univ-paris13.fr/\">USPN</a>\n",
    "  </td></tr>\n",
    "  \n",
    "</table>\n",
    "</br>"
   ]
  },
  {
   "cell_type": "markdown",
   "metadata": {},
   "source": [
    "***\n",
    "\n",
    "# Deep Learning TP 2 : Perceptron Multi-Couches\n",
    "\n",
    "***\n",
    "\n",
    "</br>\n",
    "\n",
    "**Réalisée par :**\n",
    "- [Mohammed EL-KHOU](https://www.linkedin.com/in/m-elkhou/)\n",
    ">- mohammed.elkhou1@usmba.ac.ma\n",
    ">- m.elkhou@hotmail.com\n",
    "\n",
    "**Encadré par :**\n",
    "- Mr. [Nistor Grozavu](https://lipn.univ-paris13.fr/~grozavu/)\n",
    ">- nistor.grozavu@lipn.univ-paris13.fr\n",
    ">- nistor.grozavu@gmail.com\n",
    "\n",
    "</br>\n",
    "<a href=\"https://colab.research.google.com/github/m-elkhou/Deep_Learning/blob/master/DeepLearningTP2.ipynb\">\n",
    "    <img align=\"left\" src=\"https://colab.research.google.com/assets/colab-badge.svg\" alt=\"Open in Colab\" title=\"Open and Execute in Google Colaboratory\">\n",
    "</a>\n",
    "</br>\n",
    "\n",
    "***"
   ]
  },
  {
   "cell_type": "code",
   "execution_count": 1,
   "metadata": {},
   "outputs": [],
   "source": [
    "import numpy as np\n",
    "from sklearn import *\n",
    "import matplotlib.pyplot as plt"
   ]
  },
  {
   "cell_type": "code",
   "execution_count": 2,
   "metadata": {},
   "outputs": [],
   "source": [
    "from jupyterthemes import jtplot\n",
    "jtplot.style()\n",
    "plt.rcParams[\"figure.figsize\"] = (12,7)"
   ]
  },
  {
   "cell_type": "markdown",
   "metadata": {},
   "source": [
    "## A) Régression avec un Perceptron Multi-Couches\n",
    "\n",
    "1. Créez un ensemble de points (une 20ène) suivant une fonction sinusoïde avec un bruit\n",
    "gaussien d'écart type 0,2. On va essayer de retrouver la fonction à partir des points avec\n",
    "un Perceptron Multi-Couches (MLP). Analyser la documentation sur MLP dans la\n",
    "librairie scikit-learn et analysez toutes les parametres.\n",
    "\n",
    "> x = np.linspace(0,8,20).reshape(-1,1)\n",
    "\n",
    "> y = np.sin(x) + np.random.randn(20)*0.2"
   ]
  },
  {
   "cell_type": "code",
   "execution_count": 246,
   "metadata": {},
   "outputs": [
    {
     "name": "stdout",
     "output_type": "stream",
     "text": [
      "X : \n",
      " [[-10.18799917   1.3218794 ]\n",
      " [  0.75074672  -8.17532971]\n",
      " [ -1.88996542  -6.89301065]] \n",
      "\n",
      " y : \n",
      " [-1  1  1]\n"
     ]
    }
   ],
   "source": [
    "from sklearn.datasets.samples_generator import make_blobs\n",
    "\n",
    "X, y = make_blobs(n_samples=100, centers=2, n_features=2, random_state=9)\n",
    "y = np.where(y==0, -1, 1)\n",
    "\n",
    "print(\"X : \\n\" , X[:3], \"\\n\\n y : \\n\", y[:3])"
   ]
  },
  {
   "cell_type": "markdown",
   "metadata": {},
   "source": [
    "2. Initialisez le MLP avec la fonction MLPRegressor. On veut 3 neurones cachés, une\n",
    "fonction d'activation linéaire et un pas d'apprentissage (learning rate) de 0,1 avec un\n",
    "nombre d’iterations de 100.\n"
   ]
  },
  {
   "cell_type": "code",
   "execution_count": null,
   "metadata": {},
   "outputs": [],
   "source": []
  },
  {
   "cell_type": "markdown",
   "metadata": {},
   "source": [
    "3. Lancez l'apprentissage du MLP. Utilisez la fonction fit."
   ]
  },
  {
   "cell_type": "code",
   "execution_count": null,
   "metadata": {},
   "outputs": [],
   "source": []
  },
  {
   "cell_type": "markdown",
   "metadata": {},
   "source": [
    "4. La fonction predict permet d'utiliser le MLP appris pour faire de la régression.\n"
   ]
  },
  {
   "cell_type": "code",
   "execution_count": null,
   "metadata": {},
   "outputs": [],
   "source": []
  },
  {
   "cell_type": "markdown",
   "metadata": {},
   "source": [
    "5. Tracez sur une même figure"
   ]
  },
  {
   "cell_type": "code",
   "execution_count": null,
   "metadata": {},
   "outputs": [],
   "source": []
  },
  {
   "cell_type": "markdown",
   "metadata": {},
   "source": [
    "## B) Classification avec un Perceptron Multi-Couches\n",
    "\n",
    "1. Les données IRIS sont constituées de 4 colonnes qui correspondent à 4 variables de\n",
    "description. La 5ème colonne donne la classe de chaque objet. Transformez ces données en\n",
    "deux matrices contenant les données et le label (target).\n"
   ]
  },
  {
   "cell_type": "code",
   "execution_count": null,
   "metadata": {},
   "outputs": [],
   "source": []
  },
  {
   "cell_type": "markdown",
   "metadata": {},
   "source": [
    "2. Pour permettre l'apprentissage par un MLP, il faut « binariser » les numéros de classe.\n"
   ]
  },
  {
   "cell_type": "code",
   "execution_count": null,
   "metadata": {},
   "outputs": [],
   "source": []
  },
  {
   "cell_type": "markdown",
   "metadata": {},
   "source": [
    "3. Initialisez le MLP avec la fonction MLPClassifier. On veut 2 neurones cachés, une\n",
    "fonction d'activation logistique et un pas d'apprentissage de 0,2.\n"
   ]
  },
  {
   "cell_type": "code",
   "execution_count": null,
   "metadata": {},
   "outputs": [],
   "source": []
  },
  {
   "cell_type": "markdown",
   "metadata": {},
   "source": [
    "4. On garde les mêmes options que dans l'exercice precedent. Lancez l'apprentissage du\n",
    "MLP avec la fonction fit. On veut utiliser l'algorithme d'optimisation de descente de\n",
    "gradient stochastique (lbfgs).\n"
   ]
  },
  {
   "cell_type": "code",
   "execution_count": null,
   "metadata": {},
   "outputs": [],
   "source": []
  },
  {
   "cell_type": "markdown",
   "metadata": {},
   "source": [
    "5. Affichez les résultats désirés et les résultats obtenus dans une même figure. Vous pouvez\n",
    "utiliser un ACP par exemple. Chaque point aura une couleur différente selon sa classe.\n",
    "Les résultats sont-ils bon ?"
   ]
  },
  {
   "cell_type": "code",
   "execution_count": null,
   "metadata": {},
   "outputs": [],
   "source": []
  },
  {
   "cell_type": "markdown",
   "metadata": {},
   "source": [
    "6. Essayez de normaliser les données (centrées – réduites). Cela améliore-t-il la\n",
    "classification ?\n"
   ]
  },
  {
   "cell_type": "code",
   "execution_count": null,
   "metadata": {},
   "outputs": [],
   "source": []
  },
  {
   "cell_type": "markdown",
   "metadata": {},
   "source": [
    "7. Essayez de faire varier les paramètres du MLP (nombre de neurones cachés, etc...).\n",
    "Comment ces paramètres influencent les résultats ?\n"
   ]
  },
  {
   "cell_type": "code",
   "execution_count": null,
   "metadata": {},
   "outputs": [],
   "source": []
  },
  {
   "cell_type": "markdown",
   "metadata": {},
   "source": [
    "## C) Réduction de dimensions avec un Perceptron Multi-Couches\n",
    "\n",
    "1. Entraînez un MLP à retrouver les vecteurs d'entrée en sortie (la sortie doit être la même\n",
    "que l'entrée) sur la base de données Iris. On utilisera ici deux neurones cachés et une\n",
    "fonction d'activation linéaire.\n"
   ]
  },
  {
   "cell_type": "code",
   "execution_count": null,
   "metadata": {},
   "outputs": [],
   "source": []
  },
  {
   "cell_type": "markdown",
   "metadata": {},
   "source": [
    "2. Après apprentissage, calculez les sorties de la couche cachée pour chaque point de\n",
    "données en utilisant la matrice de poids (coef) et les données en entrées. Vous obtenez\n",
    "deux valeurs par points, qui donnent de nouvelles coordonnées pour chaque point.\n",
    "Affichez ces valeurs dans une figure (avec les classes réelles représentées en couleur).\n"
   ]
  },
  {
   "cell_type": "code",
   "execution_count": null,
   "metadata": {},
   "outputs": [],
   "source": []
  },
  {
   "cell_type": "markdown",
   "metadata": {},
   "source": [
    "3. Que représente cette figure ?"
   ]
  },
  {
   "cell_type": "code",
   "execution_count": null,
   "metadata": {},
   "outputs": [],
   "source": []
  },
  {
   "cell_type": "markdown",
   "metadata": {},
   "source": [
    "4. Si on utilise une fonction d'activation logistique, qu'est ce que ça change (et pourquoi ?)."
   ]
  },
  {
   "cell_type": "code",
   "execution_count": null,
   "metadata": {},
   "outputs": [],
   "source": []
  }
 ],
 "metadata": {
  "file_extension": ".py",
  "kernelspec": {
   "display_name": "Python 3",
   "language": "python",
   "name": "python3"
  },
  "language_info": {
   "codemirror_mode": {
    "name": "ipython",
    "version": 3
   },
   "file_extension": ".py",
   "mimetype": "text/x-python",
   "name": "python",
   "nbconvert_exporter": "python",
   "pygments_lexer": "ipython3",
   "version": "3.7.5"
  },
  "mimetype": "text/x-python",
  "name": "python",
  "npconvert_exporter": "python",
  "pygments_lexer": "ipython3",
  "version": 3
 },
 "nbformat": 4,
 "nbformat_minor": 2
}
